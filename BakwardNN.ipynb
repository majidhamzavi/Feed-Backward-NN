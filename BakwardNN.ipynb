{
 "cells": [
  {
   "cell_type": "code",
   "execution_count": 1,
   "metadata": {},
   "outputs": [],
   "source": [
    "# bakward NN (no hidden layer!)\n",
    "\n",
    "import numpy as np\n",
    "import timeit\n",
    "import matplotlib.pyplot as plt\n",
    "from sklearn.metrics import mean_squared_error"
   ]
  },
  {
   "cell_type": "code",
   "execution_count": 2,
   "metadata": {},
   "outputs": [],
   "source": [
    "def onehot(X):\n",
    "    T = np.zeros((X.shape[0],np.max(X)+1))\n",
    "    T[np.arange(len(X)),X] = 1 #Set T[i,X[i]] to 1\n",
    "    return T"
   ]
  },
  {
   "cell_type": "code",
   "execution_count": 3,
   "metadata": {},
   "outputs": [],
   "source": [
    "#Train Data\n",
    "xtrain = np.loadtxt('xtrain.txt' , delimiter=',')\n",
    "xtrain /= 255\n",
    "ytrain = np.loadtxt('ytrain.txt' , delimiter=',').astype(int)\n",
    "ytrain = onehot(ytrain)\n",
    "\n",
    "#Test Data\n",
    "xtest = np.loadtxt('xtest.txt' , delimiter=',')\n",
    "xtest /= 255\n",
    "ytest = np.loadtxt('ytest.txt' , delimiter=',').astype(int)\n",
    "ytest_onehot = onehot(ytest)"
   ]
  },
  {
   "cell_type": "code",
   "execution_count": 4,
   "metadata": {},
   "outputs": [],
   "source": [
    "#initialize random weights and biases\n",
    "s = 0.2\n",
    "w = (np.random.rand(784,10)-0.5)*s\n",
    "b = (np.random.rand(10,)-0.5)*s"
   ]
  },
  {
   "cell_type": "code",
   "execution_count": null,
   "metadata": {},
   "outputs": [],
   "source": [
    "start = timeit.default_timer()\n",
    "y_plot = []\n",
    "for i in range(25000):\n",
    "    \n",
    "    k = np.random.randint(60000, size = 1)\n",
    "    xtrain_rand = xtrain[k,:]\n",
    "    ytrain_rand = ytrain[k,]\n",
    "\n",
    "    p = (xtrain_rand .dot(w)) + b\n",
    "    l = 0.001\n",
    "    w = w - l * (np.transpose(xtrain_rand).dot(p - ytrain_rand))\n",
    "    b = b - l * (p - ytrain_rand)\n",
    "    \n",
    "    # error in each iteration\n",
    "    #out = np.argmax((xtest .dot(w) + b) , axis=1 )\n",
    "    out = xtest .dot(w) + b\n",
    "    #error = 0.5 * np.sum((ytest_onehot - out) ** 2)\n",
    "    error = mean_squared_error(ytest_onehot, out)\n",
    "    y_plot.append(error) \n",
    "\n",
    "stop = timeit.default_timer()\n",
    "time = print('running time:', round((stop - start ),2), 's') "
   ]
  },
  {
   "cell_type": "code",
   "execution_count": null,
   "metadata": {},
   "outputs": [],
   "source": [
    "output = np.argmax((xtest .dot(w) + b) , axis=1 )\n",
    "k = 0\n",
    "for i in range(10000):\n",
    "    if output[i,]==ytest[i,]:\n",
    "        k = k + 1\n",
    "accuracy = (k/10000)*100        \n",
    "print('accuracy:', round(accuracy,2), '%')  \n",
    "        \n",
    "                 \n",
    "# Making the Confusion Matrix\n",
    "from sklearn.metrics import confusion_matrix        \n",
    "cm = confusion_matrix(output, ytest)\n",
    "print(cm)"
   ]
  },
  {
   "cell_type": "code",
   "execution_count": null,
   "metadata": {},
   "outputs": [],
   "source": [
    "# plot error vs iterations\n",
    "plt.plot( y_plot, 'r')\n",
    "plt.xlabel('Iteration')\n",
    "plt.ylabel('Error')\n",
    "plt.show()"
   ]
  }
 ],
 "metadata": {
  "kernelspec": {
   "display_name": "Python 3",
   "language": "python",
   "name": "python3"
  },
  "language_info": {
   "codemirror_mode": {
    "name": "ipython",
    "version": 3
   },
   "file_extension": ".py",
   "mimetype": "text/x-python",
   "name": "python",
   "nbconvert_exporter": "python",
   "pygments_lexer": "ipython3",
   "version": "3.7.4"
  }
 },
 "nbformat": 4,
 "nbformat_minor": 2
}
