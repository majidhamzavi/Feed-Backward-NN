{
 "cells": [
  {
   "cell_type": "code",
   "execution_count": 1,
   "metadata": {},
   "outputs": [],
   "source": [
    "# bakward NN (no hidden layer!)\n",
    "\n",
    "import numpy as np\n",
    "import timeit\n",
    "import matplotlib.pyplot as plt\n",
    "from sklearn.metrics import mean_squared_error"
   ]
  },
  {
   "cell_type": "code",
   "execution_count": 2,
   "metadata": {},
   "outputs": [],
   "source": [
    "def onehot(X):\n",
    "    T = np.zeros((X.shape[0],np.max(X)+1))\n",
    "    T[np.arange(len(X)),X] = 1 #Set T[i,X[i]] to 1\n",
    "    return T"
   ]
  },
  {
   "cell_type": "code",
   "execution_count": 3,
   "metadata": {},
   "outputs": [],
   "source": [
    "#Train Data\n",
    "xtrain = np.loadtxt('xtrain.txt' , delimiter=',')\n",
    "xtrain /= 255\n",
    "ytrain = np.loadtxt('ytrain.txt' , delimiter=',').astype(int)\n",
    "ytrain = onehot(ytrain)\n",
    "\n",
    "#Test Data\n",
    "xtest = np.loadtxt('xtest.txt' , delimiter=',')\n",
    "xtest /= 255\n",
    "ytest = np.loadtxt('ytest.txt' , delimiter=',').astype(int)\n",
    "ytest_onehot = onehot(ytest)"
   ]
  },
  {
   "cell_type": "code",
   "execution_count": 4,
   "metadata": {},
   "outputs": [],
   "source": [
    "#initialize random weights and biases\n",
    "s = 0.2\n",
    "w = (np.random.rand(784,10)-0.5)*s\n",
    "b = (np.random.rand(10,)-0.5)*s"
   ]
  },
  {
   "cell_type": "code",
   "execution_count": 5,
   "metadata": {},
   "outputs": [
    {
     "name": "stdout",
     "output_type": "stream",
     "text": [
      "running time: 258.44 s\n"
     ]
    }
   ],
   "source": [
    "start = timeit.default_timer()\n",
    "y_plot = []\n",
    "for i in range(25000):\n",
    "    \n",
    "    k = np.random.randint(60000, size = 1)\n",
    "    xtrain_rand = xtrain[k,:]\n",
    "    ytrain_rand = ytrain[k,]\n",
    "\n",
    "    p = (xtrain_rand .dot(w)) + b\n",
    "    l = 0.001\n",
    "    w = w - l * (np.transpose(xtrain_rand).dot(p - ytrain_rand))\n",
    "    b = b - l * (p - ytrain_rand)\n",
    "    \n",
    "    # error in each iteration\n",
    "    #out = np.argmax((xtest .dot(w) + b) , axis=1 )\n",
    "    out = xtest .dot(w) + b\n",
    "    #error = 0.5 * np.sum((ytest_onehot - out) ** 2)\n",
    "    error = mean_squared_error(ytest_onehot, out)\n",
    "    y_plot.append(error) \n",
    "\n",
    "stop = timeit.default_timer()\n",
    "time = print('running time:', round((stop - start ),2), 's') "
   ]
  },
  {
   "cell_type": "code",
   "execution_count": 6,
   "metadata": {},
   "outputs": [
    {
     "name": "stdout",
     "output_type": "stream",
     "text": [
      "accuracy: 82.89 %\n",
      "[[ 916    0   15   10    0   19   20    5   12   17]\n",
      " [   1 1086   35   13   19   23   11   36   40   13]\n",
      " [  10    9  850   63    9   21   15   26   23   10]\n",
      " [   6    4   19  821    2  105    2    9   50   15]\n",
      " [   5    3   26    8  890   39   25   31   26  160]\n",
      " [  13    0    3   21    5  567   14    2   23   10]\n",
      " [  19    4   20   14   11   28  858    5   19    6]\n",
      " [   2    1   18   29    5   24    1  878   13  100]\n",
      " [   6   27   41   26    7   54   10    1  755   10]\n",
      " [   2    1    5    5   34   12    2   35   13  668]]\n"
     ]
    }
   ],
   "source": [
    "output = np.argmax((xtest .dot(w) + b) , axis=1 )\n",
    "k = 0\n",
    "for i in range(10000):\n",
    "    if output[i,]==ytest[i,]:\n",
    "        k = k + 1\n",
    "accuracy = (k/10000)*100        \n",
    "print('accuracy:', round(accuracy,2), '%')  \n",
    "        \n",
    "                 \n",
    "# Making the Confusion Matrix\n",
    "from sklearn.metrics import confusion_matrix        \n",
    "cm = confusion_matrix(output, ytest)\n",
    "print(cm)"
   ]
  },
  {
   "cell_type": "code",
   "execution_count": 7,
   "metadata": {},
   "outputs": [
    {
     "data": {
      "image/png": "[encoded data removed]",
      "text/plain": [
       "<Figure size 432x288 with 1 Axes>"
      ]
     },
     "metadata": {
      "needs_background": "light"
     },
     "output_type": "display_data"
    }
   ],
   "source": [
    "# plot error vs iterations\n",
    "plt.plot( y_plot, 'r')\n",
    "plt.xlabel('Iteration')\n",
    "plt.ylabel('Error')\n",
    "plt.show()"
   ]
  }
 ],
 "metadata": {
  "kernelspec": {
   "display_name": "Python 3",
   "language": "python",
   "name": "python3"
  },
  "language_info": {
   "codemirror_mode": {
    "name": "ipython",
    "version": 3
   },
   "file_extension": ".py",
   "mimetype": "text/x-python",
   "name": "python",
   "nbconvert_exporter": "python",
   "pygments_lexer": "ipython3",
   "version": "3.7.4"
  }
 },
 "nbformat": 4,
 "nbformat_minor": 2
}
